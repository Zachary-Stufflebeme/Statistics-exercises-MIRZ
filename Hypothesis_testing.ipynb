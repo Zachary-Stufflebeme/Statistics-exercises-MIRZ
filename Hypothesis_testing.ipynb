{
 "cells": [
  {
   "cell_type": "code",
   "execution_count": 29,
   "id": "03baf308-8c06-4169-814a-edca3f56208e",
   "metadata": {},
   "outputs": [],
   "source": [
    "import numpy as np\n",
    "import pandas as pd\n",
    "import matplotlib.pyplot as plt\n",
    "from scipy import stats\n",
    "from grab_db import my_db\n",
    "from pydataset import data"
   ]
  },
  {
   "cell_type": "markdown",
   "id": "e4352a1f-c6e5-49e5-97ea-5bad3a1abfa1",
   "metadata": {},
   "source": [
    "#### For each of the following questions, formulate a null and alternative hypothesis (be as specific as you can be), then give an example of what a true positive, true negative, type I and type II errors would look like. Note that some of the questions are intentionally phrased in a vague way. It is your job to reword these as more precise questions that could be tested."
   ]
  },
  {
   "cell_type": "markdown",
   "id": "10f810cd-c3bb-42ab-b398-673445e73d3b",
   "metadata": {},
   "source": [
    "### 1 Has the network latency gone up since we switched internet service providers?"
   ]
  },
  {
   "cell_type": "markdown",
   "id": "c4e7301e-144e-484b-8766-5d9f571e4dc9",
   "metadata": {},
   "source": [
    "Hnull - Network latency is the same between both internet service providers. <br>\n",
    "Halt - The network latency has gone up since we switched internet service providers."
   ]
  },
  {
   "cell_type": "markdown",
   "id": "a04bef38-56d7-40bd-8e85-540c4780e540",
   "metadata": {},
   "source": [
    "TP : we concluded network latency went up and it did <br>\n",
    "TN: We concluded network latency did not go up and it did not"
   ]
  },
  {
   "cell_type": "markdown",
   "id": "2a526c6d-ee03-4fc6-b737-aec1f1adbc1b",
   "metadata": {},
   "source": [
    "type 1 error: We reject the null but it is true <br>\n",
    "type 2 error: we failed to reject the null when it was not true\n"
   ]
  },
  {
   "cell_type": "markdown",
   "id": "f1a55151-a35f-493f-a27b-cd42f06ed400",
   "metadata": {},
   "source": [
    "### 2 Is the website redesign any good?"
   ]
  },
  {
   "cell_type": "markdown",
   "id": "cf1bf6bb-1257-4d94-83a2-133a938076de",
   "metadata": {},
   "source": [
    "Hnull - the website design has not increased clicks. <br>\n",
    "Halt - the website design is better now and has increased clicks."
   ]
  },
  {
   "cell_type": "markdown",
   "id": "b366c622-62d1-42c5-8a10-10eeaa3c0bf7",
   "metadata": {},
   "source": [
    "TP: we concluded website design is better now and it is <br>\n",
    "TN: We conluded website design is not better and it isnt"
   ]
  },
  {
   "cell_type": "markdown",
   "id": "f28cbcea-61b9-4303-bf73-afa3e1eb6626",
   "metadata": {},
   "source": [
    "type 1 error: we reject the null but it is true <br>\n",
    "type 2 error: we failed to reject the null when it was true"
   ]
  },
  {
   "cell_type": "markdown",
   "id": "f2f348dc-dfeb-4413-84bf-8d9405cddbde",
   "metadata": {},
   "source": [
    "### 3 Is our television ad driving more sales?"
   ]
  },
  {
   "cell_type": "markdown",
   "id": "3dc6fb75-8d38-498f-8361-e69855e8eadd",
   "metadata": {},
   "source": [
    "Hnull - the television ad has had no impact on driving more sales. <br>\n",
    "Halt - The television ad has increased sales."
   ]
  },
  {
   "cell_type": "markdown",
   "id": "59d8be8f-febe-41b3-b5a4-696dbe863643",
   "metadata": {},
   "source": [
    "TP: we concluded the ad increased sales and it did <br>\n",
    "TN:we concluded ad had no impact on sales and it did not"
   ]
  },
  {
   "cell_type": "markdown",
   "id": "19845f7f-a27c-4d51-90d1-6af8ce7f50f5",
   "metadata": {},
   "source": [
    "type 1 error: we reject the null but it is true <br>\n",
    "type 2 error: we failed to reject the null when it was true."
   ]
  },
  {
   "cell_type": "markdown",
   "id": "9eef73b5-be54-4a1e-bda5-a5871f93efd4",
   "metadata": {},
   "source": [
    "## T-TEST:"
   ]
  },
  {
   "cell_type": "markdown",
   "id": "8986e226-be56-41ec-a3bc-a90bb5453121",
   "metadata": {},
   "source": [
    "#### Answer with the type of test you would use (assume normal distribution):"
   ]
  },
  {
   "cell_type": "markdown",
   "id": "cdb7adca-e007-4171-9bf1-62d1faae9e26",
   "metadata": {},
   "source": [
    "##### Is there a difference in grades of students on the second floor compared to grades of all students?"
   ]
  },
  {
   "cell_type": "markdown",
   "id": "45c4f818-e60f-4013-801d-7fd68340ed69",
   "metadata": {},
   "source": [
    "- 1 sample T-test"
   ]
  },
  {
   "cell_type": "markdown",
   "id": "2c116a5e-e939-4625-925d-5abe67186abd",
   "metadata": {},
   "source": [
    "##### Are adults who drink milk taller than adults who dont drink milk?"
   ]
  },
  {
   "cell_type": "markdown",
   "id": "2b3c498d-8a21-437c-85d8-7a71a3e5dda9",
   "metadata": {},
   "source": [
    "- independent 1 tail 2 sample T-test"
   ]
  },
  {
   "cell_type": "markdown",
   "id": "4be40633-f74f-408c-b676-e03f2d3026ca",
   "metadata": {},
   "source": [
    "##### Is the the price of gas higher in texas or in new mexico?"
   ]
  },
  {
   "cell_type": "markdown",
   "id": "4f0112ce-8355-4db8-be0d-6219547e891a",
   "metadata": {},
   "source": [
    "- independent 1 tail 2 sample T-test"
   ]
  },
  {
   "cell_type": "markdown",
   "id": "8294b30c-6c53-42ed-b72a-35a08fc29bdd",
   "metadata": {},
   "source": [
    "##### Are there differences in stress levels between students who take data science vs students who take web development vs students who take cloud academy?\n"
   ]
  },
  {
   "cell_type": "markdown",
   "id": "c8ed3dd8-745b-4fa8-9ca5-c0f8771d73a0",
   "metadata": {},
   "source": [
    " - Anova test"
   ]
  },
  {
   "cell_type": "markdown",
   "id": "dd182fa7-072e-46f9-89cb-f9eabdcb2c5f",
   "metadata": {},
   "source": [
    "##### Ace Realty wants to determine whether the average time it takes to sell homes is different for its two offices. A sample of 40 sales from office #1 revealed a mean of 90 days and a standard deviation of 15 days. A sample of 50 sales from office #2 revealed a mean of 100 days and a standard deviation of 20 days. Use a .05 level of significance."
   ]
  },
  {
   "cell_type": "markdown",
   "id": "2bbb6650-8853-4ecc-b6d1-fb106e517fb9",
   "metadata": {},
   "source": [
    " - 2 sample T-test\n",
    " - Hnull - average time to sell homes is the same between office 1 and 2 <br>\n",
    " - Halt - average time to sell homes is different between office 1 and 2"
   ]
  },
  {
   "cell_type": "code",
   "execution_count": 23,
   "id": "4750f079-20fa-451e-9d89-3e74c0cf06fa",
   "metadata": {},
   "outputs": [],
   "source": [
    "of_1 = np.random.normal(90,15,40)\n",
    "of_2 = np.random.normal(100,20,50)\n",
    "t, p = stats.ttest_ind(of_1, of_2)"
   ]
  },
  {
   "cell_type": "markdown",
   "id": "40c158ba-df00-4770-80bf-9702ab1337f8",
   "metadata": {},
   "source": [
    "TEST VARIANCE:"
   ]
  },
  {
   "cell_type": "code",
   "execution_count": 20,
   "id": "3a818b0c-cf41-49c3-a338-8e6404fc1db2",
   "metadata": {},
   "outputs": [],
   "source": [
    "stat, p_val = stats.levene(of_1, of_2)"
   ]
  },
  {
   "cell_type": "code",
   "execution_count": 28,
   "id": "95df91cd-90d3-42a4-9254-cb6da0881b84",
   "metadata": {},
   "outputs": [
    {
     "name": "stdout",
     "output_type": "stream",
     "text": [
      "we fail to reject the null\n"
     ]
    }
   ],
   "source": [
    "if p_val < .05:\n",
    "    print('reject null')\n",
    "else:\n",
    "    print('we fail to reject the null')"
   ]
  },
  {
   "cell_type": "markdown",
   "id": "f9e0bc85-0613-4bb7-b9d4-a4317cd51135",
   "metadata": {},
   "source": [
    "according to levene test variance is equal."
   ]
  },
  {
   "cell_type": "code",
   "execution_count": 24,
   "id": "bac419ac-bbee-4ce2-ae3e-fe4ecb3dc4cf",
   "metadata": {},
   "outputs": [],
   "source": [
    "t, p = stats.ttest_ind(of_1, of_2)"
   ]
  },
  {
   "cell_type": "code",
   "execution_count": 27,
   "id": "be1d65a4-ebb1-468a-be96-80f7354393a0",
   "metadata": {},
   "outputs": [
    {
     "name": "stdout",
     "output_type": "stream",
     "text": [
      "We fail to reject the null\n"
     ]
    }
   ],
   "source": [
    "if p < .05:\n",
    "    print('reject null')\n",
    "else:\n",
    "    print('We fail to reject the null')"
   ]
  },
  {
   "cell_type": "markdown",
   "id": "24d2c58b-cbe1-48f9-91ec-681f6652a589",
   "metadata": {},
   "source": [
    "This indicates that the average time to sell homes is the same between office 1 and office 2"
   ]
  },
  {
   "cell_type": "markdown",
   "id": "7e1ccdea-1b40-495a-9658-558709c3cfe0",
   "metadata": {},
   "source": [
    "#### Load the mpg dataset and use it to answer the following questions:"
   ]
  },
  {
   "cell_type": "code",
   "execution_count": 30,
   "id": "069e5016-e209-4fc8-8038-fcfd9d6f70ae",
   "metadata": {},
   "outputs": [],
   "source": [
    "mpg = data('mpg')"
   ]
  },
  {
   "cell_type": "markdown",
   "id": "fa56d0a9-d237-4d53-994b-a20917ef005a",
   "metadata": {},
   "source": [
    "##### Is there a difference in fuel-efficiency in cars from 2008 vs 1999?"
   ]
  },
  {
   "cell_type": "markdown",
   "id": "7e2ac4fb-025c-475c-95d6-8260c1aee2bd",
   "metadata": {},
   "source": [
    " - 2 sample 2 tail T-test <br>\n",
    " - Hnull - there is no difference in fuel efficiency in cars from 2008 and 1999\n",
    " - Halt - there is a difference in fuel efficiency in cars from 2008 and 1999"
   ]
  },
  {
   "cell_type": "code",
   "execution_count": 33,
   "id": "aaa54e89-2b59-4499-9f0e-597190e3fdca",
   "metadata": {},
   "outputs": [],
   "source": [
    "mpg['FE'] =(mpg.cty + mpg.hwy)/2"
   ]
  },
  {
   "cell_type": "code",
   "execution_count": 36,
   "id": "f2d9c43a-7fd4-4694-9b79-0b083cc88618",
   "metadata": {},
   "outputs": [],
   "source": [
    "fe_2008 = mpg.FE[mpg.year == 2008]"
   ]
  },
  {
   "cell_type": "code",
   "execution_count": 37,
   "id": "faeea025-be19-4351-8e56-d94c4527e712",
   "metadata": {},
   "outputs": [],
   "source": [
    "fe_1999 = mpg.FE[mpg.year == 1999]"
   ]
  },
  {
   "cell_type": "markdown",
   "id": "0e5dccda-4a14-43e6-8cee-c76440e75846",
   "metadata": {},
   "source": [
    "TEST VARIANCE"
   ]
  },
  {
   "cell_type": "code",
   "execution_count": 39,
   "id": "e61f2040-5d1f-4885-86fd-17aca906947d",
   "metadata": {},
   "outputs": [],
   "source": [
    "stat, p_val = stats.levene(fe_2008, fe_1999)"
   ]
  },
  {
   "cell_type": "code",
   "execution_count": 40,
   "id": "fb7f072c-fb87-4fbf-b8b0-d34ceb4a2988",
   "metadata": {},
   "outputs": [
    {
     "name": "stdout",
     "output_type": "stream",
     "text": [
      "we fail to reject null\n"
     ]
    }
   ],
   "source": [
    "if p_val < .05:\n",
    "    print('we reject the null')\n",
    "else:\n",
    "    print('we fail to reject null')\n",
    "    "
   ]
  },
  {
   "cell_type": "markdown",
   "id": "e561f623-ea69-4c50-bc61-fe018f9fa748",
   "metadata": {},
   "source": [
    "According to levene test variance is equal."
   ]
  },
  {
   "cell_type": "code",
   "execution_count": null,
   "id": "f5c83d21-3085-4149-ae72-126b25df06b5",
   "metadata": {},
   "outputs": [],
   "source": [
    "t, p = stats.ttest_ind(fe_1999,fe_2008)"
   ]
  },
  {
   "cell_type": "code",
   "execution_count": 41,
   "id": "eba47799-6147-41da-9572-b94fd67e1f22",
   "metadata": {},
   "outputs": [
    {
     "name": "stdout",
     "output_type": "stream",
     "text": [
      "we fail to reject null\n"
     ]
    }
   ],
   "source": [
    "if p < .05:\n",
    "    print('we reject the null')\n",
    "else:\n",
    "    print('we fail to reject null')\n",
    "    "
   ]
  },
  {
   "cell_type": "markdown",
   "id": "f07d1530-d847-4cca-ac50-16dce31c801a",
   "metadata": {},
   "source": [
    "Since we failed to reject null we can conclude that there is no significant difference in fuel efficiency between 1999 and 2008 vehicles."
   ]
  },
  {
   "cell_type": "markdown",
   "id": "1d4e06d3-eb0f-41ff-8467-d73ee89d4d64",
   "metadata": {},
   "source": [
    "#### Are compact cars more fuel-efficient than the average car?"
   ]
  },
  {
   "cell_type": "markdown",
   "id": "2e6cadd0-84e3-45cb-ada8-f6ebb08e07a8",
   "metadata": {},
   "source": [
    " - 1 sample ttest <br>\n",
    " - Hnull - compact cars are equally efficient to the average car.<br>\n",
    " - Halt - compact cars have a different efficiency than the average car."
   ]
  },
  {
   "cell_type": "code",
   "execution_count": 47,
   "id": "a677af38-9360-4135-aebb-340af8674092",
   "metadata": {},
   "outputs": [],
   "source": [
    "compact_FE = mpg.FE[mpg['class'] == 'compact']\n",
    "FE = mpg.FE"
   ]
  },
  {
   "cell_type": "markdown",
   "id": "fb9ebdf6-c542-44c8-b25a-88c0c67fbfab",
   "metadata": {},
   "source": [
    "TEST VARIANCE"
   ]
  },
  {
   "cell_type": "code",
   "execution_count": null,
   "id": "3954f418-44dc-4181-b793-74c58bbc4e1f",
   "metadata": {},
   "outputs": [],
   "source": [
    "stat, p_val = stats.levene(compact_FE, fe_1999)"
   ]
  },
  {
   "cell_type": "code",
   "execution_count": null,
   "id": "7f10808a-3659-4837-8c5b-52832ffbecde",
   "metadata": {},
   "outputs": [],
   "source": []
  },
  {
   "cell_type": "code",
   "execution_count": null,
   "id": "a8471668-d6fb-4fa1-abb6-00605c2994de",
   "metadata": {},
   "outputs": [],
   "source": []
  },
  {
   "cell_type": "code",
   "execution_count": null,
   "id": "06ac3ff6-498a-4ed9-85dc-95dcfc9cc070",
   "metadata": {},
   "outputs": [],
   "source": []
  },
  {
   "cell_type": "code",
   "execution_count": 35,
   "id": "0e86fb4e-7bf7-443f-b05f-fd38d32ff7c4",
   "metadata": {},
   "outputs": [
    {
     "data": {
      "text/html": [
       "<div>\n",
       "<style scoped>\n",
       "    .dataframe tbody tr th:only-of-type {\n",
       "        vertical-align: middle;\n",
       "    }\n",
       "\n",
       "    .dataframe tbody tr th {\n",
       "        vertical-align: top;\n",
       "    }\n",
       "\n",
       "    .dataframe thead th {\n",
       "        text-align: right;\n",
       "    }\n",
       "</style>\n",
       "<table border=\"1\" class=\"dataframe\">\n",
       "  <thead>\n",
       "    <tr style=\"text-align: right;\">\n",
       "      <th></th>\n",
       "      <th>manufacturer</th>\n",
       "      <th>model</th>\n",
       "      <th>displ</th>\n",
       "      <th>year</th>\n",
       "      <th>cyl</th>\n",
       "      <th>trans</th>\n",
       "      <th>drv</th>\n",
       "      <th>cty</th>\n",
       "      <th>hwy</th>\n",
       "      <th>fl</th>\n",
       "      <th>class</th>\n",
       "      <th>FE</th>\n",
       "    </tr>\n",
       "  </thead>\n",
       "  <tbody>\n",
       "    <tr>\n",
       "      <th>1</th>\n",
       "      <td>audi</td>\n",
       "      <td>a4</td>\n",
       "      <td>1.8</td>\n",
       "      <td>1999</td>\n",
       "      <td>4</td>\n",
       "      <td>auto(l5)</td>\n",
       "      <td>f</td>\n",
       "      <td>18</td>\n",
       "      <td>29</td>\n",
       "      <td>p</td>\n",
       "      <td>compact</td>\n",
       "      <td>23.5</td>\n",
       "    </tr>\n",
       "    <tr>\n",
       "      <th>2</th>\n",
       "      <td>audi</td>\n",
       "      <td>a4</td>\n",
       "      <td>1.8</td>\n",
       "      <td>1999</td>\n",
       "      <td>4</td>\n",
       "      <td>manual(m5)</td>\n",
       "      <td>f</td>\n",
       "      <td>21</td>\n",
       "      <td>29</td>\n",
       "      <td>p</td>\n",
       "      <td>compact</td>\n",
       "      <td>25.0</td>\n",
       "    </tr>\n",
       "    <tr>\n",
       "      <th>3</th>\n",
       "      <td>audi</td>\n",
       "      <td>a4</td>\n",
       "      <td>2.0</td>\n",
       "      <td>2008</td>\n",
       "      <td>4</td>\n",
       "      <td>manual(m6)</td>\n",
       "      <td>f</td>\n",
       "      <td>20</td>\n",
       "      <td>31</td>\n",
       "      <td>p</td>\n",
       "      <td>compact</td>\n",
       "      <td>25.5</td>\n",
       "    </tr>\n",
       "    <tr>\n",
       "      <th>4</th>\n",
       "      <td>audi</td>\n",
       "      <td>a4</td>\n",
       "      <td>2.0</td>\n",
       "      <td>2008</td>\n",
       "      <td>4</td>\n",
       "      <td>auto(av)</td>\n",
       "      <td>f</td>\n",
       "      <td>21</td>\n",
       "      <td>30</td>\n",
       "      <td>p</td>\n",
       "      <td>compact</td>\n",
       "      <td>25.5</td>\n",
       "    </tr>\n",
       "    <tr>\n",
       "      <th>5</th>\n",
       "      <td>audi</td>\n",
       "      <td>a4</td>\n",
       "      <td>2.8</td>\n",
       "      <td>1999</td>\n",
       "      <td>6</td>\n",
       "      <td>auto(l5)</td>\n",
       "      <td>f</td>\n",
       "      <td>16</td>\n",
       "      <td>26</td>\n",
       "      <td>p</td>\n",
       "      <td>compact</td>\n",
       "      <td>21.0</td>\n",
       "    </tr>\n",
       "    <tr>\n",
       "      <th>...</th>\n",
       "      <td>...</td>\n",
       "      <td>...</td>\n",
       "      <td>...</td>\n",
       "      <td>...</td>\n",
       "      <td>...</td>\n",
       "      <td>...</td>\n",
       "      <td>...</td>\n",
       "      <td>...</td>\n",
       "      <td>...</td>\n",
       "      <td>...</td>\n",
       "      <td>...</td>\n",
       "      <td>...</td>\n",
       "    </tr>\n",
       "    <tr>\n",
       "      <th>230</th>\n",
       "      <td>volkswagen</td>\n",
       "      <td>passat</td>\n",
       "      <td>2.0</td>\n",
       "      <td>2008</td>\n",
       "      <td>4</td>\n",
       "      <td>auto(s6)</td>\n",
       "      <td>f</td>\n",
       "      <td>19</td>\n",
       "      <td>28</td>\n",
       "      <td>p</td>\n",
       "      <td>midsize</td>\n",
       "      <td>23.5</td>\n",
       "    </tr>\n",
       "    <tr>\n",
       "      <th>231</th>\n",
       "      <td>volkswagen</td>\n",
       "      <td>passat</td>\n",
       "      <td>2.0</td>\n",
       "      <td>2008</td>\n",
       "      <td>4</td>\n",
       "      <td>manual(m6)</td>\n",
       "      <td>f</td>\n",
       "      <td>21</td>\n",
       "      <td>29</td>\n",
       "      <td>p</td>\n",
       "      <td>midsize</td>\n",
       "      <td>25.0</td>\n",
       "    </tr>\n",
       "    <tr>\n",
       "      <th>232</th>\n",
       "      <td>volkswagen</td>\n",
       "      <td>passat</td>\n",
       "      <td>2.8</td>\n",
       "      <td>1999</td>\n",
       "      <td>6</td>\n",
       "      <td>auto(l5)</td>\n",
       "      <td>f</td>\n",
       "      <td>16</td>\n",
       "      <td>26</td>\n",
       "      <td>p</td>\n",
       "      <td>midsize</td>\n",
       "      <td>21.0</td>\n",
       "    </tr>\n",
       "    <tr>\n",
       "      <th>233</th>\n",
       "      <td>volkswagen</td>\n",
       "      <td>passat</td>\n",
       "      <td>2.8</td>\n",
       "      <td>1999</td>\n",
       "      <td>6</td>\n",
       "      <td>manual(m5)</td>\n",
       "      <td>f</td>\n",
       "      <td>18</td>\n",
       "      <td>26</td>\n",
       "      <td>p</td>\n",
       "      <td>midsize</td>\n",
       "      <td>22.0</td>\n",
       "    </tr>\n",
       "    <tr>\n",
       "      <th>234</th>\n",
       "      <td>volkswagen</td>\n",
       "      <td>passat</td>\n",
       "      <td>3.6</td>\n",
       "      <td>2008</td>\n",
       "      <td>6</td>\n",
       "      <td>auto(s6)</td>\n",
       "      <td>f</td>\n",
       "      <td>17</td>\n",
       "      <td>26</td>\n",
       "      <td>p</td>\n",
       "      <td>midsize</td>\n",
       "      <td>21.5</td>\n",
       "    </tr>\n",
       "  </tbody>\n",
       "</table>\n",
       "<p>234 rows × 12 columns</p>\n",
       "</div>"
      ],
      "text/plain": [
       "    manufacturer   model  displ  year  cyl       trans drv  cty  hwy fl  \\\n",
       "1           audi      a4    1.8  1999    4    auto(l5)   f   18   29  p   \n",
       "2           audi      a4    1.8  1999    4  manual(m5)   f   21   29  p   \n",
       "3           audi      a4    2.0  2008    4  manual(m6)   f   20   31  p   \n",
       "4           audi      a4    2.0  2008    4    auto(av)   f   21   30  p   \n",
       "5           audi      a4    2.8  1999    6    auto(l5)   f   16   26  p   \n",
       "..           ...     ...    ...   ...  ...         ...  ..  ...  ... ..   \n",
       "230   volkswagen  passat    2.0  2008    4    auto(s6)   f   19   28  p   \n",
       "231   volkswagen  passat    2.0  2008    4  manual(m6)   f   21   29  p   \n",
       "232   volkswagen  passat    2.8  1999    6    auto(l5)   f   16   26  p   \n",
       "233   volkswagen  passat    2.8  1999    6  manual(m5)   f   18   26  p   \n",
       "234   volkswagen  passat    3.6  2008    6    auto(s6)   f   17   26  p   \n",
       "\n",
       "       class    FE  \n",
       "1    compact  23.5  \n",
       "2    compact  25.0  \n",
       "3    compact  25.5  \n",
       "4    compact  25.5  \n",
       "5    compact  21.0  \n",
       "..       ...   ...  \n",
       "230  midsize  23.5  \n",
       "231  midsize  25.0  \n",
       "232  midsize  21.0  \n",
       "233  midsize  22.0  \n",
       "234  midsize  21.5  \n",
       "\n",
       "[234 rows x 12 columns]"
      ]
     },
     "execution_count": 35,
     "metadata": {},
     "output_type": "execute_result"
    }
   ],
   "source": [
    "mpg"
   ]
  },
  {
   "cell_type": "code",
   "execution_count": null,
   "id": "ba2c0186-3d9b-4236-ae8f-638dc37b9a1e",
   "metadata": {},
   "outputs": [],
   "source": []
  }
 ],
 "metadata": {
  "kernelspec": {
   "display_name": "Python 3 (ipykernel)",
   "language": "python",
   "name": "python3"
  },
  "language_info": {
   "codemirror_mode": {
    "name": "ipython",
    "version": 3
   },
   "file_extension": ".py",
   "mimetype": "text/x-python",
   "name": "python",
   "nbconvert_exporter": "python",
   "pygments_lexer": "ipython3",
   "version": "3.9.12"
  }
 },
 "nbformat": 4,
 "nbformat_minor": 5
}
