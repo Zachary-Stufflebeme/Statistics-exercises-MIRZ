{
 "cells": [
  {
   "cell_type": "code",
   "execution_count": 2,
   "id": "03baf308-8c06-4169-814a-edca3f56208e",
   "metadata": {},
   "outputs": [],
   "source": [
    "import numpy as np\n",
    "import pandas as pd\n",
    "import matplotlib.pyplot as plt\n",
    "from scipy import stats\n",
    "from grab_db import my_db\n",
    "from pydataset import data"
   ]
  },
  {
   "cell_type": "markdown",
   "id": "e4352a1f-c6e5-49e5-97ea-5bad3a1abfa1",
   "metadata": {},
   "source": [
    "#### For each of the following questions, formulate a null and alternative hypothesis (be as specific as you can be), then give an example of what a true positive, true negative, type I and type II errors would look like. Note that some of the questions are intentionally phrased in a vague way. It is your job to reword these as more precise questions that could be tested."
   ]
  },
  {
   "cell_type": "markdown",
   "id": "10f810cd-c3bb-42ab-b398-673445e73d3b",
   "metadata": {},
   "source": [
    "### 1 Has the network latency gone up since we switched internet service providers?"
   ]
  },
  {
   "cell_type": "markdown",
   "id": "c4e7301e-144e-484b-8766-5d9f571e4dc9",
   "metadata": {},
   "source": [
    "Hnull - Network latency is the same between both internet service providers. <br>\n",
    "Halt - The network latency has gone up since we switched internet service providers."
   ]
  },
  {
   "cell_type": "markdown",
   "id": "a04bef38-56d7-40bd-8e85-540c4780e540",
   "metadata": {},
   "source": [
    "TP : we concluded network latency went up and it did <br>\n",
    "TN: We concluded network latency did not go up and it did not"
   ]
  },
  {
   "cell_type": "markdown",
   "id": "2a526c6d-ee03-4fc6-b737-aec1f1adbc1b",
   "metadata": {},
   "source": [
    "type 1 error: We reject the null but it is true <br>\n",
    "type 2 error: we failed to reject the null when it was not true\n"
   ]
  },
  {
   "cell_type": "markdown",
   "id": "f1a55151-a35f-493f-a27b-cd42f06ed400",
   "metadata": {},
   "source": [
    "### 2 Is the website redesign any good?"
   ]
  },
  {
   "cell_type": "markdown",
   "id": "cf1bf6bb-1257-4d94-83a2-133a938076de",
   "metadata": {},
   "source": [
    "Hnull - the website design has not increased clicks. <br>\n",
    "Halt - the website design is better now and has increased clicks."
   ]
  },
  {
   "cell_type": "markdown",
   "id": "b366c622-62d1-42c5-8a10-10eeaa3c0bf7",
   "metadata": {},
   "source": [
    "TP: we concluded website design is better now and it is <br>\n",
    "TN: We conluded website design is not better and it isnt"
   ]
  },
  {
   "cell_type": "markdown",
   "id": "f28cbcea-61b9-4303-bf73-afa3e1eb6626",
   "metadata": {},
   "source": [
    "type 1 error: we reject the null but it is true <br>\n",
    "type 2 error: we failed to reject the null when it was true"
   ]
  },
  {
   "cell_type": "markdown",
   "id": "f2f348dc-dfeb-4413-84bf-8d9405cddbde",
   "metadata": {},
   "source": [
    "### 3 Is our television ad driving more sales?"
   ]
  },
  {
   "cell_type": "markdown",
   "id": "3dc6fb75-8d38-498f-8361-e69855e8eadd",
   "metadata": {},
   "source": [
    "Hnull - the television ad has had no impact on driving more sales. <br>\n",
    "Halt - The television ad has increased sales."
   ]
  },
  {
   "cell_type": "markdown",
   "id": "59d8be8f-febe-41b3-b5a4-696dbe863643",
   "metadata": {},
   "source": [
    "TP: we concluded the ad increased sales and it did <br>\n",
    "TN:we concluded ad had no impact on sales and it did not"
   ]
  },
  {
   "cell_type": "markdown",
   "id": "19845f7f-a27c-4d51-90d1-6af8ce7f50f5",
   "metadata": {},
   "source": [
    "type 1 error: we reject the null but it is true <br>\n",
    "type 2 error: we failed to reject the null when it was true."
   ]
  },
  {
   "cell_type": "markdown",
   "id": "9eef73b5-be54-4a1e-bda5-a5871f93efd4",
   "metadata": {},
   "source": [
    "## T-TEST:"
   ]
  },
  {
   "cell_type": "markdown",
   "id": "8986e226-be56-41ec-a3bc-a90bb5453121",
   "metadata": {},
   "source": [
    "#### Answer with the type of test you would use (assume normal distribution):"
   ]
  },
  {
   "cell_type": "markdown",
   "id": "cdb7adca-e007-4171-9bf1-62d1faae9e26",
   "metadata": {},
   "source": [
    "##### Is there a difference in grades of students on the second floor compared to grades of all students?"
   ]
  },
  {
   "cell_type": "markdown",
   "id": "45c4f818-e60f-4013-801d-7fd68340ed69",
   "metadata": {},
   "source": [
    "- 1 sample T-test"
   ]
  },
  {
   "cell_type": "markdown",
   "id": "2c116a5e-e939-4625-925d-5abe67186abd",
   "metadata": {},
   "source": [
    "##### Are adults who drink milk taller than adults who dont drink milk?"
   ]
  },
  {
   "cell_type": "markdown",
   "id": "2b3c498d-8a21-437c-85d8-7a71a3e5dda9",
   "metadata": {},
   "source": [
    "- independent 1 tail 2 sample T-test"
   ]
  },
  {
   "cell_type": "markdown",
   "id": "4be40633-f74f-408c-b676-e03f2d3026ca",
   "metadata": {},
   "source": [
    "##### Is the the price of gas higher in texas or in new mexico?"
   ]
  },
  {
   "cell_type": "markdown",
   "id": "4f0112ce-8355-4db8-be0d-6219547e891a",
   "metadata": {},
   "source": [
    "- independent 1 tail 2 sample T-test"
   ]
  },
  {
   "cell_type": "markdown",
   "id": "8294b30c-6c53-42ed-b72a-35a08fc29bdd",
   "metadata": {},
   "source": [
    "##### Are there differences in stress levels between students who take data science vs students who take web development vs students who take cloud academy?\n"
   ]
  },
  {
   "cell_type": "markdown",
   "id": "c8ed3dd8-745b-4fa8-9ca5-c0f8771d73a0",
   "metadata": {},
   "source": [
    " - Anova test"
   ]
  },
  {
   "cell_type": "markdown",
   "id": "dd182fa7-072e-46f9-89cb-f9eabdcb2c5f",
   "metadata": {},
   "source": [
    "##### Ace Realty wants to determine whether the average time it takes to sell homes is different for its two offices. A sample of 40 sales from office #1 revealed a mean of 90 days and a standard deviation of 15 days. A sample of 50 sales from office #2 revealed a mean of 100 days and a standard deviation of 20 days. Use a .05 level of significance."
   ]
  },
  {
   "cell_type": "markdown",
   "id": "2bbb6650-8853-4ecc-b6d1-fb106e517fb9",
   "metadata": {},
   "source": [
    " - 2 sample T-test\n",
    " - Hnull - average time to sell homes is the same between office 1 and 2 <br>\n",
    " - Halt - average time to sell homes is different between office 1 and 2"
   ]
  },
  {
   "cell_type": "code",
   "execution_count": 3,
   "id": "4750f079-20fa-451e-9d89-3e74c0cf06fa",
   "metadata": {},
   "outputs": [],
   "source": [
    "of_1 = np.random.normal(90,15,40)\n",
    "of_2 = np.random.normal(100,20,50)\n",
    "t, p = stats.ttest_ind(of_1, of_2)"
   ]
  },
  {
   "cell_type": "markdown",
   "id": "40c158ba-df00-4770-80bf-9702ab1337f8",
   "metadata": {},
   "source": [
    "TEST VARIANCE:"
   ]
  },
  {
   "cell_type": "code",
   "execution_count": 4,
   "id": "3a818b0c-cf41-49c3-a338-8e6404fc1db2",
   "metadata": {},
   "outputs": [],
   "source": [
    "stat, p_val = stats.levene(of_1, of_2)"
   ]
  },
  {
   "cell_type": "code",
   "execution_count": 5,
   "id": "95df91cd-90d3-42a4-9254-cb6da0881b84",
   "metadata": {},
   "outputs": [
    {
     "name": "stdout",
     "output_type": "stream",
     "text": [
      "reject null\n"
     ]
    }
   ],
   "source": [
    "if p_val < .05:\n",
    "    print('reject null')\n",
    "else:\n",
    "    print('we fail to reject the null')"
   ]
  },
  {
   "cell_type": "markdown",
   "id": "f9e0bc85-0613-4bb7-b9d4-a4317cd51135",
   "metadata": {},
   "source": [
    "according to levene test variance is equal."
   ]
  },
  {
   "cell_type": "code",
   "execution_count": 6,
   "id": "bac419ac-bbee-4ce2-ae3e-fe4ecb3dc4cf",
   "metadata": {},
   "outputs": [],
   "source": [
    "t, p = stats.ttest_ind(of_1, of_2)"
   ]
  },
  {
   "cell_type": "code",
   "execution_count": 7,
   "id": "be1d65a4-ebb1-468a-be96-80f7354393a0",
   "metadata": {},
   "outputs": [
    {
     "name": "stdout",
     "output_type": "stream",
     "text": [
      "reject null\n"
     ]
    }
   ],
   "source": [
    "if p < .05:\n",
    "    print('reject null')\n",
    "else:\n",
    "    print('We fail to reject the null')"
   ]
  },
  {
   "cell_type": "markdown",
   "id": "24d2c58b-cbe1-48f9-91ec-681f6652a589",
   "metadata": {},
   "source": [
    "This indicates that the average time to sell homes is the same between office 1 and office 2"
   ]
  },
  {
   "cell_type": "markdown",
   "id": "7e1ccdea-1b40-495a-9658-558709c3cfe0",
   "metadata": {},
   "source": [
    "#### Load the mpg dataset and use it to answer the following questions:"
   ]
  },
  {
   "cell_type": "code",
   "execution_count": 8,
   "id": "069e5016-e209-4fc8-8038-fcfd9d6f70ae",
   "metadata": {},
   "outputs": [],
   "source": [
    "mpg = data('mpg')"
   ]
  },
  {
   "cell_type": "markdown",
   "id": "fa56d0a9-d237-4d53-994b-a20917ef005a",
   "metadata": {},
   "source": [
    "##### Is there a difference in fuel-efficiency in cars from 2008 vs 1999?"
   ]
  },
  {
   "cell_type": "markdown",
   "id": "7e2ac4fb-025c-475c-95d6-8260c1aee2bd",
   "metadata": {},
   "source": [
    " - 2 sample 2 tail T-test <br>\n",
    " - Hnull - there is no difference in fuel efficiency in cars from 2008 and 1999\n",
    " - Halt - there is a difference in fuel efficiency in cars from 2008 and 1999"
   ]
  },
  {
   "cell_type": "code",
   "execution_count": 9,
   "id": "aaa54e89-2b59-4499-9f0e-597190e3fdca",
   "metadata": {},
   "outputs": [],
   "source": [
    "mpg['FE'] =(mpg.cty + mpg.hwy)/2"
   ]
  },
  {
   "cell_type": "code",
   "execution_count": 10,
   "id": "f2d9c43a-7fd4-4694-9b79-0b083cc88618",
   "metadata": {},
   "outputs": [],
   "source": [
    "fe_2008 = mpg.FE[mpg.year == 2008]"
   ]
  },
  {
   "cell_type": "code",
   "execution_count": 11,
   "id": "faeea025-be19-4351-8e56-d94c4527e712",
   "metadata": {},
   "outputs": [],
   "source": [
    "fe_1999 = mpg.FE[mpg.year == 1999]"
   ]
  },
  {
   "cell_type": "markdown",
   "id": "0e5dccda-4a14-43e6-8cee-c76440e75846",
   "metadata": {},
   "source": [
    "TEST VARIANCE"
   ]
  },
  {
   "cell_type": "code",
   "execution_count": 12,
   "id": "e61f2040-5d1f-4885-86fd-17aca906947d",
   "metadata": {},
   "outputs": [],
   "source": [
    "stat, p_val = stats.levene(fe_2008, fe_1999)"
   ]
  },
  {
   "cell_type": "code",
   "execution_count": 13,
   "id": "fb7f072c-fb87-4fbf-b8b0-d34ceb4a2988",
   "metadata": {},
   "outputs": [
    {
     "name": "stdout",
     "output_type": "stream",
     "text": [
      "we fail to reject null\n"
     ]
    }
   ],
   "source": [
    "if p_val < .05:\n",
    "    print('we reject the null')\n",
    "else:\n",
    "    print('we fail to reject null')\n",
    "    "
   ]
  },
  {
   "cell_type": "markdown",
   "id": "e561f623-ea69-4c50-bc61-fe018f9fa748",
   "metadata": {},
   "source": [
    "According to levene test variance is equal."
   ]
  },
  {
   "cell_type": "code",
   "execution_count": 14,
   "id": "f5c83d21-3085-4149-ae72-126b25df06b5",
   "metadata": {},
   "outputs": [],
   "source": [
    "t, p = stats.ttest_ind(fe_1999,fe_2008)"
   ]
  },
  {
   "cell_type": "code",
   "execution_count": 15,
   "id": "eba47799-6147-41da-9572-b94fd67e1f22",
   "metadata": {},
   "outputs": [
    {
     "name": "stdout",
     "output_type": "stream",
     "text": [
      "we fail to reject null\n"
     ]
    }
   ],
   "source": [
    "if p < .05:\n",
    "    print('we reject the null')\n",
    "else:\n",
    "    print('we fail to reject null')\n",
    "    "
   ]
  },
  {
   "cell_type": "markdown",
   "id": "f07d1530-d847-4cca-ac50-16dce31c801a",
   "metadata": {},
   "source": [
    "Since we failed to reject null we can conclude that there is no significant difference in fuel efficiency between 1999 and 2008 vehicles."
   ]
  },
  {
   "cell_type": "markdown",
   "id": "1d4e06d3-eb0f-41ff-8467-d73ee89d4d64",
   "metadata": {},
   "source": [
    "#### Are compact cars more fuel-efficient than the average car?"
   ]
  },
  {
   "cell_type": "markdown",
   "id": "2e6cadd0-84e3-45cb-ada8-f6ebb08e07a8",
   "metadata": {},
   "source": [
    " - 1 sample ttest <br>\n",
    " - Hnull - compact cars are equally efficient to the average car.<br>\n",
    " - Halt - compact cars have a different efficiency than the average car."
   ]
  },
  {
   "cell_type": "code",
   "execution_count": 34,
   "id": "a677af38-9360-4135-aebb-340af8674092",
   "metadata": {},
   "outputs": [],
   "source": [
    "compact_FE = mpg.FE[mpg['class'] == 'compact']\n",
    "FE = np.mean(mpg.FE)"
   ]
  },
  {
   "cell_type": "code",
   "execution_count": 35,
   "id": "06ac3ff6-498a-4ed9-85dc-95dcfc9cc070",
   "metadata": {},
   "outputs": [],
   "source": [
    "t, p = stats.ttest_1samp(compact_FE,FE)"
   ]
  },
  {
   "cell_type": "code",
   "execution_count": 36,
   "id": "7df709a6-7cd5-4f7f-8e4c-ffbfe2b87376",
   "metadata": {},
   "outputs": [
    {
     "name": "stdout",
     "output_type": "stream",
     "text": [
      "we reject the null\n"
     ]
    }
   ],
   "source": [
    "if p < .05:\n",
    "    print('we reject the null')\n",
    "else:\n",
    "    print('we fail to reject the null')"
   ]
  },
  {
   "cell_type": "markdown",
   "id": "285a6fa0-1ba6-40e5-95d2-4c62b4144779",
   "metadata": {},
   "source": [
    "Since we have rejected the null we can coclude that there is a DIFFERENCE between avg efficiency and efficiency of compact cars. now we need to see if the compact cars are MORE efficient by observing their means."
   ]
  },
  {
   "cell_type": "code",
   "execution_count": 38,
   "id": "0e86fb4e-7bf7-443f-b05f-fd38d32ff7c4",
   "metadata": {},
   "outputs": [
    {
     "data": {
      "text/plain": [
       "24.21276595744681"
      ]
     },
     "execution_count": 38,
     "metadata": {},
     "output_type": "execute_result"
    }
   ],
   "source": [
    "compact_FE.mean()"
   ]
  },
  {
   "cell_type": "code",
   "execution_count": 39,
   "id": "ba2c0186-3d9b-4236-ae8f-638dc37b9a1e",
   "metadata": {},
   "outputs": [
    {
     "data": {
      "text/plain": [
       "20.14957264957265"
      ]
     },
     "execution_count": 39,
     "metadata": {},
     "output_type": "execute_result"
    }
   ],
   "source": [
    "FE"
   ]
  },
  {
   "cell_type": "markdown",
   "id": "f14e020b-12a3-4bb9-b153-a0b1fccdb799",
   "metadata": {},
   "source": [
    "as you can see the compact cars have a mean fuel efficiency of 24.2 while the overall average is 20.1"
   ]
  },
  {
   "cell_type": "markdown",
   "id": "8d29dec0-a3d3-4038-9c01-fbc021dd16db",
   "metadata": {},
   "source": [
    "#### Do manual cars get better gas mileage than automatic cars?"
   ]
  },
  {
   "cell_type": "markdown",
   "id": "0d236bb3-88d3-40e9-a053-e830cab67448",
   "metadata": {},
   "source": [
    "- 2 sample Ttest.\n",
    "- Hnull - Manual cars get equal mileage to automatic cars <br>\n",
    "- Halt - manual cars get better mileage than automatic cars."
   ]
  },
  {
   "cell_type": "code",
   "execution_count": 67,
   "id": "3fd82ae6-f690-4c14-9cc5-e04f8cc108b1",
   "metadata": {},
   "outputs": [],
   "source": [
    "Auto_FE = mpg.FE[mpg.trans.str[0] == 'a']\n",
    "Manual_FE = mpg.FE[mpg.trans.str[0] != 'a']"
   ]
  },
  {
   "cell_type": "markdown",
   "id": "b6913f20-9b2a-40d7-8146-3b8bc7614670",
   "metadata": {},
   "source": [
    "TEST VARIANCE"
   ]
  },
  {
   "cell_type": "code",
   "execution_count": 71,
   "id": "1059c29c-68f3-48ce-a1c1-b354e1b1dfc4",
   "metadata": {},
   "outputs": [],
   "source": [
    "stat, p_val = stats.levene(Auto_FE,Manual_FE)"
   ]
  },
  {
   "cell_type": "code",
   "execution_count": 72,
   "id": "cb49a642-267b-45e4-a30b-add078cd86c2",
   "metadata": {},
   "outputs": [
    {
     "name": "stdout",
     "output_type": "stream",
     "text": [
      "we fail to reject null\n"
     ]
    }
   ],
   "source": [
    "if p_val < .05:\n",
    "    print('we reject null')\n",
    "else:\n",
    "    print('we fail to reject null')"
   ]
  },
  {
   "cell_type": "markdown",
   "id": "c71a34ac-7a4d-4019-8395-e976fb266fb0",
   "metadata": {},
   "source": [
    "According to levene test variance is equal."
   ]
  },
  {
   "cell_type": "code",
   "execution_count": 73,
   "id": "b14af076-f8ce-47fe-9a51-281b912429ff",
   "metadata": {},
   "outputs": [],
   "source": [
    "t, p = stats.ttest_ind(Manual_FE,Auto_FE)"
   ]
  },
  {
   "cell_type": "code",
   "execution_count": 74,
   "id": "59ed28cb-7a61-4ab7-9071-142a28014f3d",
   "metadata": {},
   "outputs": [
    {
     "name": "stdout",
     "output_type": "stream",
     "text": [
      "we reject null\n"
     ]
    }
   ],
   "source": [
    "if p < .05:\n",
    "    print('we reject null')\n",
    "else:\n",
    "    print('we fail to reject null')"
   ]
  },
  {
   "cell_type": "markdown",
   "id": "9e918e42-5fac-481a-9db4-4f7e84966e5c",
   "metadata": {},
   "source": [
    "Based on Ttest we can conclude there is a difference between manual and auto fuel efficiency. now we need to compare means to see if manual cars FE is better or worse."
   ]
  },
  {
   "cell_type": "code",
   "execution_count": 75,
   "id": "d88260a4-4cb9-4049-aa8d-5578c69bd908",
   "metadata": {},
   "outputs": [
    {
     "data": {
      "text/plain": [
       "19.130573248407643"
      ]
     },
     "execution_count": 75,
     "metadata": {},
     "output_type": "execute_result"
    }
   ],
   "source": [
    "Auto_FE.mean()"
   ]
  },
  {
   "cell_type": "code",
   "execution_count": 76,
   "id": "4874b3c2-aa74-4d0a-be1b-e116e4484630",
   "metadata": {},
   "outputs": [
    {
     "data": {
      "text/plain": [
       "22.227272727272727"
      ]
     },
     "execution_count": 76,
     "metadata": {},
     "output_type": "execute_result"
    }
   ],
   "source": [
    "Manual_FE.mean()"
   ]
  },
  {
   "cell_type": "markdown",
   "id": "13bbe525-9728-4644-8e34-e09b0a47a5b7",
   "metadata": {},
   "source": [
    "Manual FE is better than Automatic FE."
   ]
  },
  {
   "cell_type": "code",
   "execution_count": null,
   "id": "c158e512-83e2-468b-9e6a-25adfceb94c0",
   "metadata": {},
   "outputs": [],
   "source": []
  }
 ],
 "metadata": {
  "kernelspec": {
   "display_name": "Python 3 (ipykernel)",
   "language": "python",
   "name": "python3"
  },
  "language_info": {
   "codemirror_mode": {
    "name": "ipython",
    "version": 3
   },
   "file_extension": ".py",
   "mimetype": "text/x-python",
   "name": "python",
   "nbconvert_exporter": "python",
   "pygments_lexer": "ipython3",
   "version": "3.9.12"
  }
 },
 "nbformat": 4,
 "nbformat_minor": 5
}
