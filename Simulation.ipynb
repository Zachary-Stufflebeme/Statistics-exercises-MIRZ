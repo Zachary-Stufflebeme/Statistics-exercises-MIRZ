{
 "cells": [
  {
   "cell_type": "code",
   "execution_count": 2,
   "id": "b8c980c1-49a7-497f-82e3-5c9f539426a3",
   "metadata": {},
   "outputs": [],
   "source": [
    "%matplotlib inline\n",
    "import numpy as np\n",
    "import pandas as pd\n",
    "\n"
   ]
  },
  {
   "cell_type": "markdown",
   "id": "151896d2-0256-45b6-94f4-a38cd346f6c0",
   "metadata": {},
   "source": [
    "### How likely is it that you roll doubles when rolling two dice?"
   ]
  },
  {
   "cell_type": "code",
   "execution_count": 5,
   "id": "6b67822e-0ca4-4894-bc66-a370614e59f5",
   "metadata": {},
   "outputs": [
    {
     "data": {
      "text/plain": [
       "array([[3, 6],\n",
       "       [1, 1],\n",
       "       [2, 3],\n",
       "       ...,\n",
       "       [5, 1],\n",
       "       [6, 2],\n",
       "       [2, 2]])"
      ]
     },
     "execution_count": 5,
     "metadata": {},
     "output_type": "execute_result"
    }
   ],
   "source": [
    "trials = 10000\n",
    "dice = 2\n",
    "rolls = np.random.choice([1, 2, 3, 4, 5, 6],trials * dice).reshape(trials,dice)\n",
    "rolls"
   ]
  },
  {
   "cell_type": "code",
   "execution_count": 6,
   "id": "2f46f603-0a39-4e66-8650-5cfdc2f82ef3",
   "metadata": {},
   "outputs": [],
   "source": [
    "dubs = 0"
   ]
  },
  {
   "cell_type": "code",
   "execution_count": 7,
   "id": "3b265085-803e-4775-9c99-831649ab5c53",
   "metadata": {},
   "outputs": [],
   "source": [
    "for x in rolls:\n",
    "    if x[0] == x[1]:\n",
    "        dubs += 1"
   ]
  },
  {
   "cell_type": "code",
   "execution_count": 11,
   "id": "27f5b656-a633-4f20-ae31-b2513d914bfa",
   "metadata": {},
   "outputs": [
    {
     "data": {
      "text/plain": [
       "16.18"
      ]
     },
     "execution_count": 11,
     "metadata": {},
     "output_type": "execute_result"
    }
   ],
   "source": [
    "chance_of_dubs = (dubs / trials) * 100\n",
    "chance_of_dubs"
   ]
  },
  {
   "cell_type": "markdown",
   "id": "b5b7a004-1754-4bef-b038-cba6ff20da3c",
   "metadata": {},
   "source": [
    "### If you flip 8 coins, what is the probability of getting exactly 3 heads? What is the probability of getting more than 3 heads?"
   ]
  },
  {
   "cell_type": "code",
   "execution_count": 12,
   "id": "f6c44cc8-5e80-467c-a15c-62e14dfbe9ad",
   "metadata": {},
   "outputs": [
    {
     "data": {
      "text/plain": [
       "array([['T', 'T', 'H', ..., 'H', 'H', 'T'],\n",
       "       ['H', 'T', 'T', ..., 'T', 'T', 'H'],\n",
       "       ['H', 'H', 'H', ..., 'H', 'H', 'T'],\n",
       "       ...,\n",
       "       ['H', 'H', 'H', ..., 'T', 'T', 'H'],\n",
       "       ['H', 'H', 'T', ..., 'H', 'T', 'T'],\n",
       "       ['H', 'T', 'T', ..., 'T', 'H', 'H']], dtype='<U1')"
      ]
     },
     "execution_count": 12,
     "metadata": {},
     "output_type": "execute_result"
    }
   ],
   "source": [
    "trials = 10000\n",
    "coins = 8\n",
    "flips = np.random.choice(['H','T'],trials * coins).reshape(trials,coins)\n",
    "flips"
   ]
  },
  {
   "cell_type": "code",
   "execution_count": 13,
   "id": "bc3c2696-cd21-4905-afb6-62663928d631",
   "metadata": {},
   "outputs": [],
   "source": [
    "exactly_3 = 0"
   ]
  },
  {
   "cell_type": "code",
   "execution_count": 22,
   "id": "fdcf87da-76ed-4940-b95f-c06493d4fc39",
   "metadata": {},
   "outputs": [
    {
     "data": {
      "text/plain": [
       "2208"
      ]
     },
     "execution_count": 22,
     "metadata": {},
     "output_type": "execute_result"
    }
   ],
   "source": [
    "for x in flips:\n",
    "    num_of_H = 0\n",
    "    for i in x:\n",
    "        if i == 'H':\n",
    "            num_of_H += 1\n",
    "    if num_of_H == 3:\n",
    "        exactly_3 += 1\n",
    "exactly_3\n",
    "            \n",
    "        \n",
    "\n",
    "        "
   ]
  },
  {
   "cell_type": "markdown",
   "id": "c5a75ada-23fe-4de3-947a-cd696ffa0934",
   "metadata": {},
   "source": [
    "##### Exaclty 3 Heads:"
   ]
  },
  {
   "cell_type": "code",
   "execution_count": 25,
   "id": "f7086095-7ac9-4ef3-ac72-ab641013e5e5",
   "metadata": {},
   "outputs": [
    {
     "data": {
      "text/plain": [
       "22.08"
      ]
     },
     "execution_count": 25,
     "metadata": {},
     "output_type": "execute_result"
    }
   ],
   "source": [
    "prob_of_3 = (exactly_3 / trials) * 100 \n",
    "prob_of_3"
   ]
  },
  {
   "cell_type": "code",
   "execution_count": 26,
   "id": "818e5e6e-0922-4326-8bdd-a21702e6a4b1",
   "metadata": {},
   "outputs": [],
   "source": [
    "more_than_3 = 0"
   ]
  },
  {
   "cell_type": "code",
   "execution_count": 27,
   "id": "19fba4b6-e48a-41e8-96b6-c79f70d66d99",
   "metadata": {},
   "outputs": [
    {
     "data": {
      "text/plain": [
       "6341"
      ]
     },
     "execution_count": 27,
     "metadata": {},
     "output_type": "execute_result"
    }
   ],
   "source": [
    "for x in flips:\n",
    "    num_of_H = 0\n",
    "    for i in x:\n",
    "        if i == 'H':\n",
    "            num_of_H += 1\n",
    "    if num_of_H > 3:\n",
    "        more_than_3 += 1\n",
    "more_than_3"
   ]
  },
  {
   "cell_type": "markdown",
   "id": "229f0c70-4c8f-40e2-9f51-9b96309263e4",
   "metadata": {},
   "source": [
    "##### More than 3 Heads:"
   ]
  },
  {
   "cell_type": "code",
   "execution_count": 29,
   "id": "a90b0568-a621-41a1-b032-e6ebc50d23be",
   "metadata": {},
   "outputs": [
    {
     "data": {
      "text/plain": [
       "63.41"
      ]
     },
     "execution_count": 29,
     "metadata": {},
     "output_type": "execute_result"
    }
   ],
   "source": [
    "prob_of_more_than_3 = (more_than_3 / trials) * 100\n",
    "prob_of_more_than_3"
   ]
  },
  {
   "cell_type": "markdown",
   "id": "774bd10e-c820-47aa-acd3-d3e3f37cbff3",
   "metadata": {},
   "source": [
    "### There are approximitely 3 web development cohorts for every 1 data science cohort at Codeup. Assuming that Codeup randomly selects an alumni to put on a billboard, what are the odds that the two billboards I drive past both have data science students on them?"
   ]
  },
  {
   "cell_type": "code",
   "execution_count": 33,
   "id": "07287914-47ca-4c0a-9421-05383da00248",
   "metadata": {},
   "outputs": [],
   "source": [
    "trials = 10000\n",
    "billboards = 2\n",
    "passed = np.random.choice(['W','W','W','D'], trials * billboards).reshape(trials,billboards)\n",
    "passed\n",
    "success = 0"
   ]
  },
  {
   "cell_type": "code",
   "execution_count": 34,
   "id": "52d209b1-cdbe-4692-8b43-eacaea2b9670",
   "metadata": {},
   "outputs": [
    {
     "data": {
      "text/plain": [
       "615"
      ]
     },
     "execution_count": 34,
     "metadata": {},
     "output_type": "execute_result"
    }
   ],
   "source": [
    "for x in passed:\n",
    "    if x[0] == 'D' and x[1] == 'D':\n",
    "        success += 1\n",
    "success\n",
    "            \n",
    "        "
   ]
  },
  {
   "cell_type": "code",
   "execution_count": 35,
   "id": "b05acef9-6e94-49c3-8bb5-dea6938171d8",
   "metadata": {},
   "outputs": [
    {
     "data": {
      "text/plain": [
       "6.15"
      ]
     },
     "execution_count": 35,
     "metadata": {},
     "output_type": "execute_result"
    }
   ],
   "source": [
    "prob_of_both_D = (success / trials) * 100 \n",
    "prob_of_both_D"
   ]
  },
  {
   "cell_type": "markdown",
   "id": "6d740602-9f42-42a8-976a-76d4a33cb954",
   "metadata": {},
   "source": [
    "### Codeup students buy, on average, 3 poptart packages with a standard deviation of 1.5 a day from the snack vending machine. If on monday the machine is restocked with 17 poptart packages, how likely is it that I will be able to buy some poptarts on Friday afternoon? (Remember, if you have mean and standard deviation, use the np.random.normal) You'll need to make a judgement call on how to handle some of your values"
   ]
  },
  {
   "cell_type": "code",
   "execution_count": 45,
   "id": "04e8691c-9996-4053-a702-b78568f9867c",
   "metadata": {},
   "outputs": [],
   "source": [
    "poptarts = np.random.normal(3,1.5,50000).reshape(10000,5)\n",
    "poptarts\n",
    "can_buy = 0"
   ]
  },
  {
   "cell_type": "code",
   "execution_count": 47,
   "id": "2aef49fc-7e97-40ba-b81e-a6a6e50c8fb0",
   "metadata": {},
   "outputs": [
    {
     "data": {
      "text/plain": [
       "6211"
      ]
     },
     "execution_count": 47,
     "metadata": {},
     "output_type": "execute_result"
    }
   ],
   "source": [
    "for x in poptarts:\n",
    "    if sum(x) <= 16:\n",
    "        can_buy += 1\n",
    "can_buy\n",
    "        "
   ]
  },
  {
   "cell_type": "code",
   "execution_count": 48,
   "id": "1e67c006-a4e9-40bf-b61b-0f82d5481a5b",
   "metadata": {},
   "outputs": [
    {
     "data": {
      "text/plain": [
       "62.11"
      ]
     },
     "execution_count": 48,
     "metadata": {},
     "output_type": "execute_result"
    }
   ],
   "source": [
    "prob_of_can_buy = (can_buy / 10000) * 100\n",
    "prob_of_can_buy"
   ]
  },
  {
   "cell_type": "markdown",
   "id": "358a10e9-39c2-4150-84f0-356907b4e9d7",
   "metadata": {},
   "source": [
    "### Compare Heights\n",
    "\n",
    "Men have an average height of 178 cm and standard deviation of 8cm.\n",
    "Women have a mean of 170, sd = 6cm.\n",
    "Since you have means and standard deviations, you can use np.random.normal to generate observations.\n",
    "If a man and woman are chosen at random, what is the likelihood the woman is taller than the man?"
   ]
  },
  {
   "cell_type": "code",
   "execution_count": 49,
   "id": "74a8279c-9d78-4ca0-8577-42a47814e4f3",
   "metadata": {},
   "outputs": [],
   "source": [
    "M_height = np.random.normal(178,8,10000)\n",
    "W_height = np.random.normal(170,6,10000)\n",
    "newdf = pd.DataFrame([M_height, W_height])"
   ]
  },
  {
   "cell_type": "code",
   "execution_count": 63,
   "id": "a3940b62-4ba0-4be4-ae8a-a0da9fbff09c",
   "metadata": {},
   "outputs": [
    {
     "data": {
      "text/html": [
       "<div>\n",
       "<style scoped>\n",
       "    .dataframe tbody tr th:only-of-type {\n",
       "        vertical-align: middle;\n",
       "    }\n",
       "\n",
       "    .dataframe tbody tr th {\n",
       "        vertical-align: top;\n",
       "    }\n",
       "\n",
       "    .dataframe thead th {\n",
       "        text-align: right;\n",
       "    }\n",
       "</style>\n",
       "<table border=\"1\" class=\"dataframe\">\n",
       "  <thead>\n",
       "    <tr style=\"text-align: right;\">\n",
       "      <th></th>\n",
       "      <th>0</th>\n",
       "      <th>1</th>\n",
       "    </tr>\n",
       "  </thead>\n",
       "  <tbody>\n",
       "    <tr>\n",
       "      <th>0</th>\n",
       "      <td>168.664830</td>\n",
       "      <td>171.713595</td>\n",
       "    </tr>\n",
       "    <tr>\n",
       "      <th>1</th>\n",
       "      <td>172.830933</td>\n",
       "      <td>169.764640</td>\n",
       "    </tr>\n",
       "    <tr>\n",
       "      <th>2</th>\n",
       "      <td>188.963480</td>\n",
       "      <td>164.912632</td>\n",
       "    </tr>\n",
       "    <tr>\n",
       "      <th>3</th>\n",
       "      <td>189.883806</td>\n",
       "      <td>160.729626</td>\n",
       "    </tr>\n",
       "    <tr>\n",
       "      <th>4</th>\n",
       "      <td>189.103498</td>\n",
       "      <td>167.637499</td>\n",
       "    </tr>\n",
       "    <tr>\n",
       "      <th>...</th>\n",
       "      <td>...</td>\n",
       "      <td>...</td>\n",
       "    </tr>\n",
       "    <tr>\n",
       "      <th>9995</th>\n",
       "      <td>170.079637</td>\n",
       "      <td>170.509173</td>\n",
       "    </tr>\n",
       "    <tr>\n",
       "      <th>9996</th>\n",
       "      <td>185.113033</td>\n",
       "      <td>169.301738</td>\n",
       "    </tr>\n",
       "    <tr>\n",
       "      <th>9997</th>\n",
       "      <td>173.342294</td>\n",
       "      <td>160.557001</td>\n",
       "    </tr>\n",
       "    <tr>\n",
       "      <th>9998</th>\n",
       "      <td>181.388169</td>\n",
       "      <td>168.128400</td>\n",
       "    </tr>\n",
       "    <tr>\n",
       "      <th>9999</th>\n",
       "      <td>180.095740</td>\n",
       "      <td>167.912309</td>\n",
       "    </tr>\n",
       "  </tbody>\n",
       "</table>\n",
       "<p>10000 rows × 2 columns</p>\n",
       "</div>"
      ],
      "text/plain": [
       "               0           1\n",
       "0     168.664830  171.713595\n",
       "1     172.830933  169.764640\n",
       "2     188.963480  164.912632\n",
       "3     189.883806  160.729626\n",
       "4     189.103498  167.637499\n",
       "...          ...         ...\n",
       "9995  170.079637  170.509173\n",
       "9996  185.113033  169.301738\n",
       "9997  173.342294  160.557001\n",
       "9998  181.388169  168.128400\n",
       "9999  180.095740  167.912309\n",
       "\n",
       "[10000 rows x 2 columns]"
      ]
     },
     "execution_count": 63,
     "metadata": {},
     "output_type": "execute_result"
    }
   ],
   "source": [
    "newdf = newdf.transpose()\n",
    "newdf"
   ]
  },
  {
   "cell_type": "code",
   "execution_count": 74,
   "id": "3e52945f-68af-417d-8cb0-2b865b1ce84b",
   "metadata": {},
   "outputs": [],
   "source": [
    "w_taller = round(len(newdf[newdf[1] > newdf[0]]) / 10000, 2) * 100"
   ]
  },
  {
   "cell_type": "code",
   "execution_count": 75,
   "id": "c6324518-f6d0-42b2-8ca4-331d7f12cacd",
   "metadata": {},
   "outputs": [
    {
     "data": {
      "text/plain": [
       "21.0"
      ]
     },
     "execution_count": 75,
     "metadata": {},
     "output_type": "execute_result"
    }
   ],
   "source": [
    "w_taller"
   ]
  },
  {
   "cell_type": "markdown",
   "id": "3cbe68fc-2dbf-4120-a985-e0e41960e4e6",
   "metadata": {},
   "source": [
    "### When installing anaconda on a student's computer, there's a 1 in 250 chance that the download is corrupted and the installation fails. What are the odds that after having 50 students download anaconda, no one has an installation issue? 100 students? What is the probability that we observe an installation issue within the first 150 students that download anaconda?How likely is it that 450 students all download anaconda without an issue?"
   ]
  },
  {
   "cell_type": "code",
   "execution_count": 87,
   "id": "06bf144a-f6f3-4f53-bc5c-a35c3d892466",
   "metadata": {},
   "outputs": [
    {
     "data": {
      "text/plain": [
       "1812"
      ]
     },
     "execution_count": 87,
     "metadata": {},
     "output_type": "execute_result"
    }
   ],
   "source": [
    "outcomes = ['S','F']\n",
    "trials = 10000\n",
    "students = 50\n",
    "f_count = 0\n",
    "downloads = np.random.choice(outcomes, size = (trials,students), p = [249/250, 1/250])\n",
    "for x in downloads:\n",
    "    if 'F' in x:\n",
    "        f_count += 1\n",
    "f_count\n",
    "        \n",
    "            \n",
    "            \n",
    "\n"
   ]
  },
  {
   "cell_type": "markdown",
   "id": "f69ad1d8-cd6b-4e14-8ac5-29da816ae5c1",
   "metadata": {},
   "source": [
    "##### 50 Students:\n"
   ]
  },
  {
   "cell_type": "code",
   "execution_count": 96,
   "id": "f489bc8a-6d85-49cb-9ce3-4344d875ad06",
   "metadata": {},
   "outputs": [
    {
     "data": {
      "text/plain": [
       "81.88"
      ]
     },
     "execution_count": 96,
     "metadata": {},
     "output_type": "execute_result"
    }
   ],
   "source": [
    "successes = trials - f_count\n",
    "Prob_of_no_F = (successes / trials) * 100\n",
    "Prob_of_no_F"
   ]
  },
  {
   "cell_type": "markdown",
   "id": "ddc6e32e-e351-4a2c-be93-bfadf742f239",
   "metadata": {},
   "source": [
    "##### 100 Students:"
   ]
  },
  {
   "cell_type": "code",
   "execution_count": 98,
   "id": "a8545067-9d2e-4675-9865-49f73ac1bbbf",
   "metadata": {},
   "outputs": [
    {
     "data": {
      "text/plain": [
       "3309"
      ]
     },
     "execution_count": 98,
     "metadata": {},
     "output_type": "execute_result"
    }
   ],
   "source": [
    "newstudents = 100\n",
    "f_count = 0\n",
    "newdownloads = np.random.choice(outcomes,size = (trials,newstudents), p = [249/250, 1/250])\n",
    "for x in newdownloads:\n",
    "    if 'F' in x:\n",
    "        f_count += 1\n",
    "f_count\n"
   ]
  },
  {
   "cell_type": "code",
   "execution_count": 101,
   "id": "e3790491-c721-4029-992a-7c0c4e4d8a71",
   "metadata": {},
   "outputs": [
    {
     "data": {
      "text/plain": [
       "66.91"
      ]
     },
     "execution_count": 101,
     "metadata": {},
     "output_type": "execute_result"
    }
   ],
   "source": [
    "newsuccesses = trials - f_count\n",
    "newProb_of_no_F = (newsuccesses / trials) * 100 \n",
    "newProb_of_no_F"
   ]
  },
  {
   "cell_type": "markdown",
   "id": "25b435b4-b962-4b7a-87f3-b19f8b8c1ff0",
   "metadata": {},
   "source": [
    "##### Probability we observe error in 150 downloads:"
   ]
  },
  {
   "cell_type": "code",
   "execution_count": 102,
   "id": "ca7909e3-e431-4e67-ad82-890993653f8f",
   "metadata": {},
   "outputs": [
    {
     "data": {
      "text/plain": [
       "4501"
      ]
     },
     "execution_count": 102,
     "metadata": {},
     "output_type": "execute_result"
    }
   ],
   "source": [
    "stud = 150\n",
    "f_count = 0 \n",
    "download = np.random.choice(outcomes, size =(trials,stud),p = [249/250, 1/250])\n",
    "for x in download:\n",
    "    if 'F' in x:\n",
    "        f_count += 1\n",
    "f_count"
   ]
  },
  {
   "cell_type": "code",
   "execution_count": 104,
   "id": "3bab76b4-d4f1-4ae9-906c-3a5e239633c9",
   "metadata": {},
   "outputs": [
    {
     "data": {
      "text/plain": [
       "45.01"
      ]
     },
     "execution_count": 104,
     "metadata": {},
     "output_type": "execute_result"
    }
   ],
   "source": [
    "prob_of_error = (f_count/trials) * 100\n",
    "prob_of_error"
   ]
  },
  {
   "cell_type": "markdown",
   "id": "e829beec-26b9-453b-b67f-29495ad68506",
   "metadata": {},
   "source": [
    "##### How likely is it that 450 students all download anaconda without an issue?"
   ]
  },
  {
   "cell_type": "code",
   "execution_count": 108,
   "id": "4316ad89-cff8-44df-b299-c1da7f3eb7dc",
   "metadata": {},
   "outputs": [
    {
     "data": {
      "text/plain": [
       "8373"
      ]
     },
     "execution_count": 108,
     "metadata": {},
     "output_type": "execute_result"
    }
   ],
   "source": [
    "stude= 450\n",
    "f_count = 0\n",
    "down = np.random.choice(outcomes, size = (trials,stude), p = [249/250,1/250])\n",
    "for x in down:\n",
    "    if 'F' in x:\n",
    "        f_count += 1\n",
    "f_count"
   ]
  },
  {
   "cell_type": "code",
   "execution_count": 109,
   "id": "c164d1a7-2239-43f0-b94f-922fd815995f",
   "metadata": {},
   "outputs": [
    {
     "data": {
      "text/plain": [
       "16.27"
      ]
     },
     "execution_count": 109,
     "metadata": {},
     "output_type": "execute_result"
    }
   ],
   "source": [
    "s_count = trials - f_count\n",
    "\n",
    "success_prob = (s_count / trials) * 100\n",
    "\n",
    "success_prob"
   ]
  },
  {
   "cell_type": "markdown",
   "id": "8d139ad8-e509-49ff-8649-263db80c25f1",
   "metadata": {},
   "source": [
    "### There's a 70% chance on any given day that there will be at least one food truck at Travis Park. However, you haven't seen a food truck there in 3 days. How unlikely is this? How likely is it that a food truck will show up sometime this week?"
   ]
  },
  {
   "cell_type": "code",
   "execution_count": 114,
   "id": "ce4ea4cb-b025-4d9f-a7b0-b597b60e3783",
   "metadata": {},
   "outputs": [
    {
     "data": {
      "text/plain": [
       "2.5100000000000002"
      ]
     },
     "execution_count": 114,
     "metadata": {},
     "output_type": "execute_result"
    }
   ],
   "source": [
    "poss = ['Y','N']\n",
    "trials = 10000\n",
    "days = 3\n",
    "count = 0\n",
    "look = np.random.choice(poss, size = (trials,days), p = [7/10, 3/10])\n",
    "for x in look:\n",
    "    if 'Y' not in x:\n",
    "        count += 1\n",
    "prob_of_no_truck = (count / trials) * 100\n",
    "prob_of_no_truck\n",
    "        "
   ]
  },
  {
   "cell_type": "code",
   "execution_count": 120,
   "id": "225f7d3f-ca29-4c72-b158-d9c344065a5b",
   "metadata": {},
   "outputs": [
    {
     "data": {
      "text/plain": [
       "99.83999999999999"
      ]
     },
     "execution_count": 120,
     "metadata": {},
     "output_type": "execute_result"
    }
   ],
   "source": [
    "poss = ['Y','N']\n",
    "trials = 10000\n",
    "days = 5\n",
    "count = 0\n",
    "look = np.random.choice(poss, size = (trials,days), p = [7/10, 3/10])\n",
    "for x in look:\n",
    "    if 'Y' in x:\n",
    "        count += 1\n",
    "prob_of_truck = (count / trials) * 100\n",
    "prob_of_truck"
   ]
  },
  {
   "cell_type": "markdown",
   "id": "4ed61852-06e5-4d60-b76c-17d920e5bd70",
   "metadata": {},
   "source": [
    "### If 23 people are in the same room, what are the odds that two of them share a birthday? What if it's 20 people? 40?"
   ]
  },
  {
   "cell_type": "code",
   "execution_count": 151,
   "id": "799d017f-9964-4e97-8a89-79d1ca6b6f75",
   "metadata": {},
   "outputs": [],
   "source": [
    "ppl = 23\n",
    "out = range(0,365)\n",
    "bdays = np.random.choice(out,size = (trials,ppl))\n",
    "count = 0"
   ]
  },
  {
   "cell_type": "code",
   "execution_count": 152,
   "id": "930307cd-a28b-4357-8571-79c38ecce972",
   "metadata": {},
   "outputs": [
    {
     "data": {
      "text/plain": [
       "array([[349,  72,  28, ...,  55, 157, 259],\n",
       "       [253, 340, 178, ..., 206, 142, 133],\n",
       "       [120, 359, 235, ..., 115, 252,  29],\n",
       "       ...,\n",
       "       [262, 283,  14, ...,  99, 312, 147],\n",
       "       [318,  92, 108, ..., 348,  38,  25],\n",
       "       [344, 108, 336, ..., 114, 240, 132]])"
      ]
     },
     "execution_count": 152,
     "metadata": {},
     "output_type": "execute_result"
    }
   ],
   "source": [
    "bdays"
   ]
  },
  {
   "cell_type": "code",
   "execution_count": 153,
   "id": "559ae77a-dcf2-4969-89b7-ccce16df8a18",
   "metadata": {},
   "outputs": [
    {
     "data": {
      "text/plain": [
       "5051"
      ]
     },
     "execution_count": 153,
     "metadata": {},
     "output_type": "execute_result"
    }
   ],
   "source": [
    "for x in bdays:\n",
    "    if len(x) != len(set(x)):\n",
    "        count += 1\n",
    "count"
   ]
  },
  {
   "cell_type": "markdown",
   "id": "58536e1a-5f8e-4b06-a4e9-2e36b9c3a8f9",
   "metadata": {},
   "source": [
    "##### 23:"
   ]
  },
  {
   "cell_type": "code",
   "execution_count": 154,
   "id": "fa3c0694-65fd-4d26-bc38-b0d78f17b908",
   "metadata": {},
   "outputs": [
    {
     "data": {
      "text/plain": [
       "50.51"
      ]
     },
     "execution_count": 154,
     "metadata": {},
     "output_type": "execute_result"
    }
   ],
   "source": [
    "prob_share = (count / trials) * 100\n",
    "prob_share"
   ]
  },
  {
   "cell_type": "markdown",
   "id": "603ca831-38c7-479a-9ddd-06f3fac31616",
   "metadata": {},
   "source": [
    "##### What if 20:"
   ]
  },
  {
   "cell_type": "code",
   "execution_count": 156,
   "id": "068a4a07-2666-4b14-8cbd-76302808369f",
   "metadata": {},
   "outputs": [],
   "source": [
    "ppl = 20\n",
    "out = range(0,365)\n",
    "bdays = np.random.choice(out,size = (trials,ppl))\n",
    "count = 0"
   ]
  },
  {
   "cell_type": "code",
   "execution_count": 157,
   "id": "0e0a9105-e961-4d91-b814-1eb86c04a55c",
   "metadata": {},
   "outputs": [
    {
     "data": {
      "text/plain": [
       "4108"
      ]
     },
     "execution_count": 157,
     "metadata": {},
     "output_type": "execute_result"
    }
   ],
   "source": [
    "for x in bdays:\n",
    "    if len(x) != len(set(x)):\n",
    "        count += 1\n",
    "count"
   ]
  },
  {
   "cell_type": "code",
   "execution_count": 158,
   "id": "99a3579e-fa67-4402-9ed8-7ae7fde04924",
   "metadata": {},
   "outputs": [
    {
     "data": {
      "text/plain": [
       "41.08"
      ]
     },
     "execution_count": 158,
     "metadata": {},
     "output_type": "execute_result"
    }
   ],
   "source": [
    "newProb = (count / trials) * 100 \n",
    "newProb"
   ]
  },
  {
   "cell_type": "markdown",
   "id": "c9866ddb-31c1-42c0-96e6-a3fd65d9d02a",
   "metadata": {},
   "source": [
    "##### What if 40:"
   ]
  },
  {
   "cell_type": "code",
   "execution_count": 159,
   "id": "f1c33f16-bc64-4bd4-8ea3-958cc8a2c32d",
   "metadata": {},
   "outputs": [],
   "source": [
    "ppl = 40\n",
    "out = range(0,365)\n",
    "bdays = np.random.choice(out,size = (trials,ppl))\n",
    "count = 0"
   ]
  },
  {
   "cell_type": "code",
   "execution_count": 160,
   "id": "336ac056-50e9-4ef0-88e9-99e108dd769f",
   "metadata": {},
   "outputs": [
    {
     "data": {
      "text/plain": [
       "8921"
      ]
     },
     "execution_count": 160,
     "metadata": {},
     "output_type": "execute_result"
    }
   ],
   "source": [
    "for x in bdays:\n",
    "    if len(x) != len(set(x)):\n",
    "        count += 1\n",
    "count"
   ]
  },
  {
   "cell_type": "code",
   "execution_count": 161,
   "id": "5e910adb-d0f9-45f1-be9e-1f6dae96cdc1",
   "metadata": {},
   "outputs": [
    {
     "data": {
      "text/plain": [
       "89.21"
      ]
     },
     "execution_count": 161,
     "metadata": {},
     "output_type": "execute_result"
    }
   ],
   "source": [
    "newerProb = (count / trials) * 100 \n",
    "newerProb"
   ]
  },
  {
   "cell_type": "code",
   "execution_count": null,
   "id": "925f64dd-d906-40be-83e1-495628bc2e5f",
   "metadata": {},
   "outputs": [],
   "source": []
  }
 ],
 "metadata": {
  "kernelspec": {
   "display_name": "Python 3 (ipykernel)",
   "language": "python",
   "name": "python3"
  },
  "language_info": {
   "codemirror_mode": {
    "name": "ipython",
    "version": 3
   },
   "file_extension": ".py",
   "mimetype": "text/x-python",
   "name": "python",
   "nbconvert_exporter": "python",
   "pygments_lexer": "ipython3",
   "version": "3.9.12"
  }
 },
 "nbformat": 4,
 "nbformat_minor": 5
}
