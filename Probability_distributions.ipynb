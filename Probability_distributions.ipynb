{
 "cells": [
  {
   "cell_type": "code",
   "execution_count": 53,
   "id": "69b3f255-89ef-47a2-8f16-49531b85d113",
   "metadata": {},
   "outputs": [],
   "source": [
    "import numpy as np\n",
    "import pandas as pd\n",
    "import matplotlib.pyplot as plt\n",
    "from scipy import stats\n",
    "from grab_db import my_db"
   ]
  },
  {
   "cell_type": "markdown",
   "id": "31e74900-a80c-4fc3-b3c8-c40d43e6cdff",
   "metadata": {},
   "source": [
    "### A bank found that the average number of cars waiting during the noon hour at a drive-up window follows a Poisson distribution with a mean of 2 cars. <br> Make a chart of this distribution and answer these questions concerning the probability of cars waiting at the drive-up window. "
   ]
  },
  {
   "cell_type": "code",
   "execution_count": 12,
   "id": "ad45721f-70f3-4098-a919-6d4f0dcd6219",
   "metadata": {},
   "outputs": [
    {
     "data": {
      "text/plain": [
       "Text(0, 0.5, 'probability')"
      ]
     },
     "execution_count": 12,
     "metadata": {},
     "output_type": "execute_result"
    },
    {
     "data": {
      "image/png": "[encoded data removed]",
      "text/plain": [
       "<Figure size 432x288 with 1 Axes>"
      ]
     },
     "metadata": {
      "needs_background": "light"
     },
     "output_type": "display_data"
    }
   ],
   "source": [
    "x = np.arange(0,12)\n",
    "y = stats.poisson(2).pmf(x)\n",
    "plt.bar(x,y)\n",
    "plt.title('Distribution of cars waiting')\n",
    "plt.xlabel('Number of cars')\n",
    "plt.ylabel('probability')"
   ]
  },
  {
   "cell_type": "markdown",
   "id": "2b6bc1d6-9019-4223-8c72-318579231bd0",
   "metadata": {},
   "source": [
    "###  What is the probability that no cars drive up in the noon hour? "
   ]
  },
  {
   "cell_type": "code",
   "execution_count": 5,
   "id": "04977176-d810-4714-a722-974eca082bb8",
   "metadata": {},
   "outputs": [
    {
     "data": {
      "text/plain": [
       "13.53352832366127"
      ]
     },
     "execution_count": 5,
     "metadata": {},
     "output_type": "execute_result"
    }
   ],
   "source": [
    "stats.poisson(2).pmf(0) * 100"
   ]
  },
  {
   "cell_type": "markdown",
   "id": "6f294bdc-fbc4-4c71-9650-0faa0edcba17",
   "metadata": {},
   "source": [
    "### What is the probability that 3 or more cars come through the drive through?"
   ]
  },
  {
   "cell_type": "code",
   "execution_count": 8,
   "id": "ea3b6821-fda5-41c1-8f96-4e34e0e7aca8",
   "metadata": {},
   "outputs": [
    {
     "data": {
      "text/plain": [
       "32.33235838169365"
      ]
     },
     "execution_count": 8,
     "metadata": {},
     "output_type": "execute_result"
    }
   ],
   "source": [
    "stats.poisson(2).sf(2) * 100"
   ]
  },
  {
   "cell_type": "markdown",
   "id": "3d8bc5ed-f4b4-4643-bf8a-5666a4c82165",
   "metadata": {},
   "source": [
    "### How likely is it that the drive through gets at least 1 car?"
   ]
  },
  {
   "cell_type": "code",
   "execution_count": 10,
   "id": "fdf9cb30-0a7d-40e3-9fba-3a5641e0e615",
   "metadata": {},
   "outputs": [
    {
     "data": {
      "text/plain": [
       "86.46647167633873"
      ]
     },
     "execution_count": 10,
     "metadata": {},
     "output_type": "execute_result"
    }
   ],
   "source": [
    "stats.poisson(2).sf(0) * 100"
   ]
  },
  {
   "cell_type": "markdown",
   "id": "0c5c9e89-5901-408b-88ea-3f5ba59c2852",
   "metadata": {},
   "source": [
    "### Grades of State University graduates are normally distributed with a mean of 3.0 and a standard deviation of .3. Calculate the following:"
   ]
  },
  {
   "cell_type": "markdown",
   "id": "08f7d42f-9017-48c5-a865-2ad2a8225391",
   "metadata": {},
   "source": [
    "### What grade point average is required to be in the top 5% of the graduating class?"
   ]
  },
  {
   "cell_type": "code",
   "execution_count": 18,
   "id": "eb8b1f53-bbd0-44b0-bdf8-4dd61af780af",
   "metadata": {},
   "outputs": [
    {
     "data": {
      "text/plain": [
       "3.4934560880854417"
      ]
     },
     "execution_count": 18,
     "metadata": {},
     "output_type": "execute_result"
    }
   ],
   "source": [
    "stats.norm(3,.3).ppf(.95)"
   ]
  },
  {
   "cell_type": "markdown",
   "id": "19a98620-c5c8-43bf-9c62-6c27a07baa30",
   "metadata": {},
   "source": [
    "### What GPA constitutes the bottom 15% of the class?"
   ]
  },
  {
   "cell_type": "code",
   "execution_count": 19,
   "id": "fce2ef94-384b-4546-8546-36d60bfa21be",
   "metadata": {},
   "outputs": [
    {
     "data": {
      "text/plain": [
       "2.689069983151863"
      ]
     },
     "execution_count": 19,
     "metadata": {},
     "output_type": "execute_result"
    }
   ],
   "source": [
    "stats.norm(3,.3).ppf(.15)"
   ]
  },
  {
   "cell_type": "markdown",
   "id": "2d9a80cd-d743-4b06-8e3e-2ff2d5fc4897",
   "metadata": {},
   "source": [
    "### An eccentric alumnus left scholarship money for students in the third decile from the bottom of their class. Determine the range of the third decile. Would a student with a 2.8 grade point average qualify for this scholarship?"
   ]
  },
  {
   "cell_type": "code",
   "execution_count": 37,
   "id": "2765cb45-92a2-4ed4-a341-00a419b99c52",
   "metadata": {},
   "outputs": [
    {
     "data": {
      "text/plain": [
       "2.8339845841332982"
      ]
     },
     "execution_count": 37,
     "metadata": {},
     "output_type": "execute_result"
    }
   ],
   "source": [
    "stats.norm(3,.3).ppf(.29)"
   ]
  },
  {
   "cell_type": "code",
   "execution_count": 36,
   "id": "a42af967-c687-4b13-b903-572c2eb0c16f",
   "metadata": {},
   "outputs": [
    {
     "data": {
      "text/plain": [
       "2.916204289665764"
      ]
     },
     "execution_count": 36,
     "metadata": {},
     "output_type": "execute_result"
    }
   ],
   "source": [
    "stats.norm(3,.3).ppf(.39)"
   ]
  },
  {
   "cell_type": "markdown",
   "id": "1488f9b7-02b5-45cb-882b-39ed9717b272",
   "metadata": {},
   "source": [
    "No they would not qualify for the scholarship."
   ]
  },
  {
   "cell_type": "markdown",
   "id": "67b12845-772c-4747-85a7-f867d9fc9515",
   "metadata": {},
   "source": [
    "### If I have a GPA of 3.5, what percentile am I in?"
   ]
  },
  {
   "cell_type": "code",
   "execution_count": 31,
   "id": "72ca9b25-d896-4c10-908f-f81307fc6a42",
   "metadata": {},
   "outputs": [
    {
     "data": {
      "text/plain": [
       "0.9522096477271853"
      ]
     },
     "execution_count": 31,
     "metadata": {},
     "output_type": "execute_result"
    }
   ],
   "source": [
    "stats.norm(3,.3).cdf(3.5)"
   ]
  },
  {
   "cell_type": "markdown",
   "id": "8830eb66-bbdb-4779-96bb-1ea28217a04f",
   "metadata": {},
   "source": [
    "### A marketing website has an average click-through rate of 2%. One day they observe 4326 visitors and 97 click-throughs. How likely is it that this many people or more click through?"
   ]
  },
  {
   "cell_type": "code",
   "execution_count": 34,
   "id": "7dd26700-4109-477d-b246-7ecd38d58cf3",
   "metadata": {},
   "outputs": [
    {
     "data": {
      "text/plain": [
       "13.975823631416445"
      ]
     },
     "execution_count": 34,
     "metadata": {},
     "output_type": "execute_result"
    }
   ],
   "source": [
    "stats.binom(4326,.02).sf(96) * 100"
   ]
  },
  {
   "cell_type": "markdown",
   "id": "6e342660-1e02-43d4-9b6b-a71fee4d60af",
   "metadata": {},
   "source": [
    "### You are working on some statistics homework consisting of 100 questions where all of the answers are a probability rounded to the hundreths place. Looking to save time, you put down random probabilities as the answer to each question. <br> What is the probability that at least one of your first 60 answers is correct?"
   ]
  },
  {
   "cell_type": "code",
   "execution_count": 39,
   "id": "6b89b335-a5e3-4bae-83ee-0d998b7ae274",
   "metadata": {},
   "outputs": [
    {
     "data": {
      "text/plain": [
       "45.28433576092385"
      ]
     },
     "execution_count": 39,
     "metadata": {},
     "output_type": "execute_result"
    }
   ],
   "source": [
    "stats.binom(60,.01).sf(0) * 100"
   ]
  },
  {
   "cell_type": "markdown",
   "id": "3bf09884-2e19-4efd-9f51-65eccdd41d60",
   "metadata": {},
   "source": [
    "### The codeup staff tends to get upset when the student break area is not cleaned up. Suppose that there's a 3% chance that any one student cleans the break area when they visit it, and, on any given day, about 90% of the 3 active cohorts of 22 students visit the break area."
   ]
  },
  {
   "cell_type": "markdown",
   "id": "e7dc722f-3c6f-4f83-884c-3b09b7c1b051",
   "metadata": {},
   "source": [
    "### How likely is it that the break area gets cleaned up each day?"
   ]
  },
  {
   "cell_type": "code",
   "execution_count": 42,
   "id": "a3a1c2ea-be9f-4c8a-8d79-3a2e65e8fb77",
   "metadata": {},
   "outputs": [
    {
     "data": {
      "text/plain": [
       "83.42199288437352"
      ]
     },
     "execution_count": 42,
     "metadata": {},
     "output_type": "execute_result"
    }
   ],
   "source": [
    "stats.binom(59, .03).sf(0) * 100"
   ]
  },
  {
   "cell_type": "markdown",
   "id": "69ce2461-9ba1-48d5-b9c5-3f1506228d41",
   "metadata": {},
   "source": [
    "### How likely is it that it goes two days without getting cleaned up?"
   ]
  },
  {
   "cell_type": "code",
   "execution_count": 43,
   "id": "e2f41b0d-afcb-44d9-9247-0597685bb7be",
   "metadata": {},
   "outputs": [
    {
     "data": {
      "text/plain": [
       "0.027483031992576134"
      ]
     },
     "execution_count": 43,
     "metadata": {},
     "output_type": "execute_result"
    }
   ],
   "source": [
    "stats.binom(118, .03).pmf(0) * 100 "
   ]
  },
  {
   "cell_type": "markdown",
   "id": "914a6236-f445-4bdd-b6a2-1ebfbd9a440f",
   "metadata": {},
   "source": [
    "### All week?"
   ]
  },
  {
   "cell_type": "code",
   "execution_count": 45,
   "id": "dee6b57c-6f67-449b-b523-8b74cfb38149",
   "metadata": {},
   "outputs": [
    {
     "data": {
      "text/plain": [
       "0.012521651388091245"
      ]
     },
     "execution_count": 45,
     "metadata": {},
     "output_type": "execute_result"
    }
   ],
   "source": [
    "stats.binom(295, .03).pmf(0) * 100"
   ]
  },
  {
   "cell_type": "markdown",
   "id": "8b73ec09-9136-41ec-a837-49f1d18e6c0e",
   "metadata": {},
   "source": [
    "### You want to get lunch at La Panaderia, but notice that the line is usually very long at lunchtime. After several weeks of careful observation, you notice that the average number of people in line when your lunch break starts is normally distributed with a mean of 15 and standard deviation of 3. If it takes 2 minutes for each person to order, and 10 minutes from ordering to getting your food, what is the likelihood that you have at least 15 minutes left to eat your food before you have to go back to class? Assume you have one hour for lunch, and ignore travel time to and from La Panaderia."
   ]
  },
  {
   "cell_type": "code",
   "execution_count": 51,
   "id": "01fe7a54-fca5-4818-a635-8607006bbcb3",
   "metadata": {},
   "outputs": [
    {
     "data": {
      "text/plain": [
       "69.14624612740131"
      ]
     },
     "execution_count": 51,
     "metadata": {},
     "output_type": "execute_result"
    }
   ],
   "source": [
    "stats.norm(30,6).cdf(33) * 100"
   ]
  },
  {
   "cell_type": "markdown",
   "id": "736edc80-983d-4841-b261-0e6efa917469",
   "metadata": {},
   "source": [
    "### Connect to the employees database and find the average salary of current employees, along with the standard deviation. For the following questions, calculate the answer based on modeling the employees salaries with a normal distribution defined by the calculated mean and standard deviation then compare this answer to the actual values present in the salaries dataset."
   ]
  },
  {
   "cell_type": "code",
   "execution_count": 55,
   "id": "a5a1e168-7490-4ae0-906d-cea61d9a1c2f",
   "metadata": {},
   "outputs": [],
   "source": [
    "emp = my_db('select * from salaries;','employees')"
   ]
  },
  {
   "cell_type": "code",
   "execution_count": 61,
   "id": "1b6db6ea-f916-4de7-aa54-37efa7374370",
   "metadata": {},
   "outputs": [],
   "source": [
    "mean = emp.salary.mean()\n",
    "std = emp.salary.std()"
   ]
  },
  {
   "cell_type": "markdown",
   "id": "fff52d82-5c0f-4ae1-ba95-ce381b3c8d3a",
   "metadata": {},
   "source": [
    "### What percent of employees earn less than 60,000?"
   ]
  },
  {
   "cell_type": "code",
   "execution_count": 63,
   "id": "f7b907ed-9705-4542-94a1-04578d4f2f7b",
   "metadata": {},
   "outputs": [
    {
     "data": {
      "text/plain": [
       "41.082494791346335"
      ]
     },
     "execution_count": 63,
     "metadata": {},
     "output_type": "execute_result"
    }
   ],
   "source": [
    "stats.norm(mean,std).cdf(60000) * 100 "
   ]
  },
  {
   "cell_type": "markdown",
   "id": "9bb925ae-082f-468e-be50-a1344596fef9",
   "metadata": {},
   "source": [
    "### What percent of employees earn more than 95,000?"
   ]
  },
  {
   "cell_type": "code",
   "execution_count": 65,
   "id": "dec495f8-137d-49ac-91e9-48a81bfc596f",
   "metadata": {},
   "outputs": [
    {
     "data": {
      "text/plain": [
       "3.252375415623144"
      ]
     },
     "execution_count": 65,
     "metadata": {},
     "output_type": "execute_result"
    }
   ],
   "source": [
    "stats.norm(mean,std).sf(94999) * 100"
   ]
  },
  {
   "cell_type": "markdown",
   "id": "46afd154-df67-465d-b6a7-990475ef62b9",
   "metadata": {},
   "source": [
    "### What percent of employees earn between 65,000 and 80,000?"
   ]
  },
  {
   "cell_type": "code",
   "execution_count": 68,
   "id": "775c0421-85c6-4de2-954a-395da1c07dfd",
   "metadata": {},
   "outputs": [
    {
     "data": {
      "text/plain": [
       "83.08854862376997"
      ]
     },
     "execution_count": 68,
     "metadata": {},
     "output_type": "execute_result"
    }
   ],
   "source": [
    "(stats.norm(mean,std).sf(64999)) and (stats.norm(mean,std).cdf(80000)) * 100"
   ]
  },
  {
   "cell_type": "markdown",
   "id": "65e7f4db-f4f4-4d91-8969-61907f35e02a",
   "metadata": {},
   "source": [
    "### What do the top 5% of employees make?"
   ]
  },
  {
   "cell_type": "code",
   "execution_count": 69,
   "id": "f9b12a8b-4186-4c24-ac14-fc2a2f3d4a6a",
   "metadata": {},
   "outputs": [
    {
     "data": {
      "text/plain": [
       "91616.71784707883"
      ]
     },
     "execution_count": 69,
     "metadata": {},
     "output_type": "execute_result"
    }
   ],
   "source": [
    "stats.norm(mean,std).ppf(.95)"
   ]
  },
  {
   "cell_type": "code",
   "execution_count": null,
   "id": "fe4fa29c-7fd9-4037-a9dc-8f55b14ceb3e",
   "metadata": {},
   "outputs": [],
   "source": []
  }
 ],
 "metadata": {
  "kernelspec": {
   "display_name": "Python 3 (ipykernel)",
   "language": "python",
   "name": "python3"
  },
  "language_info": {
   "codemirror_mode": {
    "name": "ipython",
    "version": 3
   },
   "file_extension": ".py",
   "mimetype": "text/x-python",
   "name": "python",
   "nbconvert_exporter": "python",
   "pygments_lexer": "ipython3",
   "version": "3.9.12"
  }
 },
 "nbformat": 4,
 "nbformat_minor": 5
}
